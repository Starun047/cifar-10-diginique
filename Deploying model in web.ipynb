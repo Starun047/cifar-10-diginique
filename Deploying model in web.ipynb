{
 "cells": [
  {
   "cell_type": "code",
   "execution_count": 5,
   "id": "9a65007c",
   "metadata": {},
   "outputs": [],
   "source": [
    "from keras.models import Sequential, load_model\n",
    "from flask import Flask, request, app, jsonify, render_template, url_for\n",
    "import numpy as np\n",
    "import cv2\n",
    "import matplotlib.pyplot as plt\n",
    "from PIL import Image, ImageDraw"
   ]
  },
  {
   "cell_type": "code",
   "execution_count": 6,
   "id": "1344b849",
   "metadata": {},
   "outputs": [
    {
     "name": "stdout",
     "output_type": "stream",
     "text": [
      "hello\n"
     ]
    }
   ],
   "source": [
    "print(\"hello\")"
   ]
  },
  {
   "cell_type": "code",
   "execution_count": 7,
   "id": "adff52eb",
   "metadata": {},
   "outputs": [],
   "source": [
    "model = load_model('./model.h5')"
   ]
  },
  {
   "cell_type": "code",
   "execution_count": 8,
   "id": "87fb56d5",
   "metadata": {},
   "outputs": [
    {
     "name": "stdout",
     "output_type": "stream",
     "text": [
      "1/1 [==============================] - 0s 401ms/step\n",
      "8\n"
     ]
    },
    {
     "data": {
      "text/plain": [
       "'ship'"
      ]
     },
     "execution_count": 8,
     "metadata": {},
     "output_type": "execute_result"
    }
   ],
   "source": [
    "class_names = ['airplane','automobile','bird','cat','deer',\n",
    "               'dog','frog','horse','ship','truck']\n",
    "path = 'C:/Users/tarun/Desktop/diginique/test images/ship4.png'\n",
    "img = Image.open(path)\n",
    "img1 = cv2.imread(path)\n",
    "img1 = np.expand_dims(img1, axis = 0)\n",
    "preds = model.predict(img1)\n",
    "output = np.argmax(preds)\n",
    "print(output)\n",
    "class_names[output]"
   ]
  },
  {
   "cell_type": "code",
   "execution_count": 9,
   "id": "fc449cf0",
   "metadata": {},
   "outputs": [],
   "source": [
    "app = Flask(__name__)\n",
    "\n",
    "@app.route('/')\n",
    "def home():\n",
    "    return render_template('index.html')\n",
    "#     return render_template('home.html')\n",
    "\n",
    "@app.route('/',methods=['POST'])\n",
    "def predicting():\n",
    "    imagefile = request.files['image']\n",
    "    image_path = 'C:/Users/tarun/Desktop/diginique/static/images/' + \"test.png\"\n",
    "    imagefile.save(image_path)\n",
    "    path = 'C:/Users/tarun/Desktop/diginique/static/images/test.png'\n",
    "    img = Image.open(path)\n",
    "    img1 = cv2.imread(path)\n",
    "    img1 = cv2.resize(img1, (32, 32))\n",
    "    img1 = np.expand_dims(img1, axis = 0)\n",
    "    preds = model.predict(img1)\n",
    "    output = np.argmax(preds)\n",
    "    predict = class_names[output]\n",
    "    \n",
    "    plt.imshow(img)\n",
    "    return render_template('index.html', prediction = \"Output is = {}\".format(predict))"
   ]
  },
  {
   "cell_type": "code",
   "execution_count": 10,
   "id": "ec626c41",
   "metadata": {},
   "outputs": [
    {
     "name": "stdout",
     "output_type": "stream",
     "text": [
      " * Serving Flask app '__main__'\n",
      " * Debug mode: off\n"
     ]
    },
    {
     "name": "stderr",
     "output_type": "stream",
     "text": [
      "WARNING: This is a development server. Do not use it in a production deployment. Use a production WSGI server instead.\n",
      " * Running on http://127.0.0.1:5000\n",
      "Press CTRL+C to quit\n",
      "127.0.0.1 - - [22/Jul/2023 18:31:29] \"GET / HTTP/1.1\" 200 -\n",
      "127.0.0.1 - - [22/Jul/2023 18:31:29] \"GET /static/css/main.css HTTP/1.1\" 304 -\n",
      "127.0.0.1 - - [22/Jul/2023 18:31:29] \"GET /static/images/favicon.png HTTP/1.1\" 404 -\n"
     ]
    },
    {
     "name": "stdout",
     "output_type": "stream",
     "text": [
      "1/1 [==============================] - 0s 37ms/step\n"
     ]
    },
    {
     "name": "stderr",
     "output_type": "stream",
     "text": [
      "127.0.0.1 - - [22/Jul/2023 18:31:37] \"POST / HTTP/1.1\" 200 -\n",
      "127.0.0.1 - - [22/Jul/2023 18:31:37] \"GET /static/css/main.css HTTP/1.1\" 304 -\n"
     ]
    },
    {
     "data": {
      "image/png": "[encoded data removed]",
      "text/plain": [
       "<Figure size 640x480 with 1 Axes>"
      ]
     },
     "metadata": {},
     "output_type": "display_data"
    }
   ],
   "source": [
    "app.run()"
   ]
  },
  {
   "cell_type": "code",
   "execution_count": null,
   "id": "878d0e72",
   "metadata": {},
   "outputs": [],
   "source": []
  }
 ],
 "metadata": {
  "kernelspec": {
   "display_name": "Python 3 (ipykernel)",
   "language": "python",
   "name": "python3"
  },
  "language_info": {
   "codemirror_mode": {
    "name": "ipython",
    "version": 3
   },
   "file_extension": ".py",
   "mimetype": "text/x-python",
   "name": "python",
   "nbconvert_exporter": "python",
   "pygments_lexer": "ipython3",
   "version": "3.11.3"
  }
 },
 "nbformat": 4,
 "nbformat_minor": 5
}
